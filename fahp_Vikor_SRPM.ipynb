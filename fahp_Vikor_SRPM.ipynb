{
  "nbformat": 4,
  "nbformat_minor": 0,
  "metadata": {
    "colab": {
      "provenance": [],
      "authorship_tag": "ABX9TyNbVjBN/q2Y3SCrL3PQfyqW",
      "include_colab_link": true
    },
    "kernelspec": {
      "name": "python3",
      "display_name": "Python 3"
    },
    "language_info": {
      "name": "python"
    }
  },
  "cells": [
    {
      "cell_type": "markdown",
      "metadata": {
        "id": "view-in-github",
        "colab_type": "text"
      },
      "source": [
        "<a href=\"https://colab.research.google.com/github/MeghneelG0/fahp_vikor_SRPM/blob/main/fahp_Vikor_SRPM.ipynb\" target=\"_parent\"><img src=\"https://colab.research.google.com/assets/colab-badge.svg\" alt=\"Open In Colab\"/></a>"
      ]
    },
    {
      "cell_type": "code",
      "source": [
        "from google.colab import drive\n",
        "drive.mount(\"/content/drive\")"
      ],
      "metadata": {
        "colab": {
          "base_uri": "https://localhost:8080/"
        },
        "id": "IMaR40anRlGZ",
        "outputId": "f68bc500-c435-4dce-cbcf-76d3d579e797"
      },
      "execution_count": 3,
      "outputs": [
        {
          "output_type": "stream",
          "name": "stdout",
          "text": [
            "Mounted at /content/drive\n"
          ]
        }
      ]
    },
    {
      "cell_type": "code",
      "execution_count": 4,
      "metadata": {
        "colab": {
          "base_uri": "https://localhost:8080/"
        },
        "id": "N3__peJRQkVn",
        "outputId": "62c342f4-56d7-4d25-dd4a-e441499c6c8b"
      },
      "outputs": [
        {
          "output_type": "stream",
          "name": "stdout",
          "text": [
            "FAHP Weights: [0.62978244 0.27240156 0.097816  ]\n",
            "    Req ID                  Req Name  Rank\n",
            "0      101                       URL     1\n",
            "71     172                Book Event     2\n",
            "70     171               Share Event     3\n",
            "69     170               Event Terms     4\n",
            "68     169           View Larger Map     5\n",
            "..     ...                       ...   ...\n",
            "28     129  Movie's Trending Stories    96\n",
            "27     128             Movie Details    97\n",
            "26     127              Select Movie    98\n",
            "86     187           Change Language    99\n",
            "99     200                    Logout   100\n",
            "\n",
            "[100 rows x 3 columns]\n",
            "Ranked requirements saved to 'Ranked_Requirements.xlsx'.\n"
          ]
        }
      ],
      "source": [
        "import numpy as np\n",
        "import pandas as pd\n",
        "\n",
        "# Load the dataset\n",
        "data = pd.read_csv(\"/content/drive/MyDrive/Colab Notebooks/Requirements.csv\")\n",
        "\n",
        "# Step 1: Define Criteria and Performance Scores\n",
        "criteria = ['Cost', 'Value', 'Importance']\n",
        "performance_scores = data[['Cost', 'Value', 'Importance']].apply(pd.to_numeric, errors='coerce').values\n",
        "\n",
        "# Step 2: Intuitionistic Fuzzy AHP (IFAHP)\n",
        "# Define intuitionistic fuzzy pairwise comparison matrix for criteria\n",
        "# Each element is a tuple (membership, non-membership)\n",
        "criteria_matrix = [\n",
        "    [(1, 1, 1), (2, 3, 4), (5, 6, 7)],  # Cost vs Value, Cost vs Importance\n",
        "    [(1/4, 1/3, 1/2), (1, 1, 1), (2, 3, 4)],  # Value vs Cost, Value vs Importance\n",
        "    [(1/7, 1/6, 1/5), (1/4, 1/3, 1/2), (1, 1, 1)]  # Importance vs Cost, Importance vs Value\n",
        "]\n",
        "\n",
        "# Function to compute intuitionistic fuzzy weights\n",
        "def compute_fahp_weights(matrix):\n",
        "    n = len(matrix)\n",
        "    fuzzy_sums = np.zeros((n, 3))  # Store (l, m, u) for each criterion\n",
        "\n",
        "    # Step 1: Sum each column\n",
        "    for j in range(n):\n",
        "        for i in range(n):\n",
        "            fuzzy_sums[j] += np.array(matrix[i][j])\n",
        "\n",
        "    # Step 2: Compute Si values (row-wise sum divided by total sum)\n",
        "    S_values = np.zeros((n, 3))\n",
        "    for i in range(n):\n",
        "        S_values[i] = np.sum(matrix[i], axis=0) / fuzzy_sums.sum(axis=0)\n",
        "\n",
        "    # Step 3: Defuzzify using centroid method\n",
        "    weights = (S_values[:, 0] + S_values[:, 1] + S_values[:, 2]) / 3\n",
        "    weights /= np.sum(weights)  # Normalize to sum to 1\n",
        "    return weights\n",
        "\n",
        "# Compute IFAHP weights\n",
        "fahp_weights = compute_fahp_weights(criteria_matrix)\n",
        "print(\"FAHP Weights:\", fahp_weights)\n",
        "\n",
        "# Step 3: VIKOR Method\n",
        "# Normalize performance scores\n",
        "def normalize_scores(scores):\n",
        "    normalized_scores = np.zeros_like(scores)\n",
        "    for j in range(scores.shape[1]):\n",
        "        normalized_scores[:, j] = scores[:, j] / np.sqrt(np.sum(scores[:, j]**2))\n",
        "    return normalized_scores\n",
        "\n",
        "normalized_scores = normalize_scores(performance_scores)\n",
        "\n",
        "# Compute weighted normalized scores\n",
        "weighted_scores = normalized_scores * fahp_weights\n",
        "\n",
        "# Determine ideal and negative-ideal solutions\n",
        "ideal_best = np.max(weighted_scores, axis=0)\n",
        "ideal_worst = np.min(weighted_scores, axis=0)\n",
        "\n",
        "# Compute group utility (S_i) and individual regret (R_i)\n",
        "S = np.sum((ideal_best - weighted_scores) / (ideal_best - ideal_worst), axis=1)\n",
        "R = np.max((ideal_best - weighted_scores) / (ideal_best - ideal_worst), axis=1)\n",
        "\n",
        "# Compute VIKOR index (Q_i)\n",
        "v = 0.5  # Weight for strategy of maximum group utility\n",
        "Q = v * (S - np.min(S)) / (np.max(S) - np.min(S)) + (1 - v) * (R - np.min(R)) / (np.max(R) - np.min(R))\n",
        "\n",
        "# Rank requirements based on Q values\n",
        "rankings = np.argsort(Q) + 1  # Add 1 to convert to 1-based ranking\n",
        "\n",
        "# Add rankings to the dataset\n",
        "data['Rank'] = rankings\n",
        "\n",
        "# Display the ranked requirements\n",
        "ranked_data = data[['Req ID', 'Req Name', 'Rank']].sort_values(by='Rank')\n",
        "print(ranked_data)\n",
        "\n",
        "# Save the ranked requirements to an Excel file\n",
        "ranked_data.to_excel(\"Ranked_Requirements.xlsx\", index=False)\n",
        "print(\"Ranked requirements saved to 'Ranked_Requirements.xlsx'.\")"
      ]
    }
  ]
}