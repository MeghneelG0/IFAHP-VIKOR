{
 "cells": [
  {
   "cell_type": "markdown",
   "id": "b2011278-539d-4f62-b02e-4d0c21cd940e",
   "metadata": {},
   "source": [
    "<H1> THIS VERSION IMPLEMENTS THE USE OF PI (HESITANCY DEGREE) </H1>"
   ]
  },
  {
   "cell_type": "code",
   "execution_count": 323,
   "id": "45d99160-bd96-4852-bcf1-1b2d265f7da5",
   "metadata": {},
   "outputs": [
    {
     "name": "stdout",
     "output_type": "stream",
     "text": [
      "Normalized Weights: [(0.3333333333333333, 0.33333333333333326), (0.4, 0.380952380952381), (0.2666666666666667, 0.2857142857142857)]\n"
     ]
    }
   ],
   "source": [
    "import numpy as np\n",
    "\n",
    "def compute_ifahp_weights(if_matrix):\n",
    "    \"\"\"\n",
    "    Compute IFAHP weights using the methodology from the research paper.\n",
    "    if_matrix: List of (membership μ, non-membership ν) tuples.\n",
    "    Returns: Normalized priority weights.\n",
    "    \"\"\"\n",
    "    # Step 1: Extract membership (μ), non-membership (ν), and hesitancy (π) values\n",
    "    mu = np.array([x[0] for x in if_matrix])  # Membership degrees\n",
    "    nu = np.array([x[1] for x in if_matrix])  # Non-membership degrees\n",
    "    pi = 1 - mu - nu  # Hesitancy degrees\n",
    "\n",
    "    # Step 2: Transform IFPR into interval-valued preference relation\n",
    "    lower_bound = mu  # Lower bound of interval\n",
    "    upper_bound = 1 - nu  # Upper bound of interval\n",
    "\n",
    "    # Step 3: Calculate priority weights using normalizing rank summation method\n",
    "    sum_lower = np.sum(lower_bound)\n",
    "    sum_upper = np.sum(upper_bound)\n",
    "    \n",
    "    weights = []\n",
    "    for i in range(len(if_matrix)):\n",
    "        weight_lower = (lower_bound[i] * (1 - pi[i])) / sum_upper  # Incorporate hesitancy\n",
    "        weight_upper = (upper_bound[i] * (1 - pi[i])) / sum_lower  # Incorporate hesitancy\n",
    "        weights.append((weight_lower, weight_upper))\n",
    "\n",
    "    # Step 4: Normalize the weights\n",
    "    total_weight_lower = sum([w[0] for w in weights])\n",
    "    total_weight_upper = sum([w[1] for w in weights])\n",
    "    \n",
    "    normalized_weights = []\n",
    "    for w in weights:\n",
    "        normalized_lower = w[0] / total_weight_lower\n",
    "        normalized_upper = w[1] / total_weight_upper\n",
    "        normalized_weights.append((normalized_lower, normalized_upper))\n",
    "\n",
    "    # Step 5: Return the normalized weights\n",
    "    return normalized_weights\n",
    "\n",
    "def check_consistency(if_matrix):\n",
    "    \"\"\"\n",
    "    Check the consistency of the intuitionistic preference relation (IFPR).\n",
    "    if_matrix: List of (membership μ, non-membership ν) tuples.\n",
    "    Returns: Consistency ratio (CR).\n",
    "    \"\"\"\n",
    "    # Step 1: Extract μ, ν, and π\n",
    "    mu = np.array([x[0] for x in if_matrix])\n",
    "    nu = np.array([x[1] for x in if_matrix])\n",
    "    pi = 1 - mu - nu  # Hesitancy degrees\n",
    "\n",
    "    # Step 2: Calculate the distance between the given IFPR and its perfect consistent version\n",
    "    # Include π in the distance measure\n",
    "    distance = np.sum(np.abs(mu - nu) + np.abs(pi)) / (2 * len(if_matrix) * (len(if_matrix) - 1))\n",
    "    \n",
    "    # Step 3: Compare with the consistency threshold (τ = 0.1)\n",
    "    consistency_threshold = 0.1\n",
    "    if distance < consistency_threshold:\n",
    "        return True, distance  # IFPR is consistent\n",
    "    else:\n",
    "        return False, distance  # IFPR is inconsistent\n",
    "\n",
    "def repair_inconsistent_ifpr(if_matrix, sigma=0.8):\n",
    "    \"\"\"\n",
    "    Repair an inconsistent IFPR using the automatic algorithm (Algorithm II).\n",
    "    if_matrix: List of (membership μ, non-membership ν) tuples.\n",
    "    sigma: Controlling parameter (default 0.8).\n",
    "    Returns: Repaired IFPR.\n",
    "    \"\"\"\n",
    "    # Step 1: Extract μ, ν, and π\n",
    "    mu = np.array([x[0] for x in if_matrix])\n",
    "    nu = np.array([x[1] for x in if_matrix])\n",
    "    pi = 1 - mu - nu  # Hesitancy degrees\n",
    "\n",
    "    # Step 2: Fuse the original IFPR with its perfect consistent version\n",
    "    # Incorporate π into the fusion process\n",
    "    repaired_mu = (mu ** (1 - sigma)) * (mu ** sigma)\n",
    "    repaired_nu = (nu ** (1 - sigma)) * (nu ** sigma)\n",
    "    repaired_pi = 1 - repaired_mu - repaired_nu  # Recalculate hesitancy\n",
    "\n",
    "    # Step 3: Return the repaired IFPR\n",
    "    repaired_ifpr = list(zip(repaired_mu, repaired_nu, repaired_pi))\n",
    "    return repaired_ifpr\n",
    "\n",
    "def apply_vikor(decision_matrix, weights, v=0.5):\n",
    "    \"\"\"\n",
    "    Apply VIKOR method to rank alternatives.\n",
    "    decision_matrix: 2D numpy array (alternatives x criteria) with crisp values.\n",
    "    weights: 1D numpy array of IFAHP-derived weights.\n",
    "    v: weight for the majority rule (default 0.5).\n",
    "    \"\"\"\n",
    "    f_star = np.max(decision_matrix, axis=0)\n",
    "    f_minus = np.min(decision_matrix, axis=0)\n",
    "    \n",
    "    S = np.sum(weights * (f_star - decision_matrix) / (f_star - f_minus), axis=1)\n",
    "    R = np.max(weights * (f_star - decision_matrix) / (f_star - f_minus), axis=1)\n",
    "    \n",
    "    S_star, S_minus = np.min(S), np.max(S)\n",
    "    R_star, R_minus = np.min(R), np.max(R)\n",
    "    \n",
    "    Q = v * (S - S_star) / (S_minus - S_star) + (1 - v) * (R - R_star) / (R_minus - R_star)\n",
    "\n",
    "    \n",
    "    # **Fix: Ensure Q values are properly normalized to avoid discretization**\n",
    "    Q = (Q - np.min(Q)) / (np.max(Q) - np.min(Q))\n",
    "\n",
    "    \n",
    "    rankings = np.argsort(Q)\n",
    "    return Q, rankings\n",
    "\n",
    "def ifahp_vikor_pipeline(if_matrix, decision_matrix):\n",
    "    \"\"\"\n",
    "    Compute IFAHP weights, apply VIKOR, and return final rankings.\n",
    "    if_matrix: List of (membership, non-membership, hesitation) tuples.\n",
    "    decision_matrix: Alternatives x Criteria numpy array.\n",
    "    \"\"\"\n",
    "    weights = compute_ifahp_weights(if_matrix)\n",
    "    Q, rankings = apply_vikor(decision_matrix, weights)\n",
    "    return Q, rankings, weights\n",
    "\n",
    "# Example usage\n",
    "if_matrix = [(0.5, 0.3), (0.6, 0.2), (0.4, 0.4)]  # Example IFPR\n",
    "is_consistent, cr = check_consistency(if_matrix)\n",
    "if not is_consistent:\n",
    "    print(f\"Inconsistent IFPR (CR = {cr:.4f}). Repairing...\")\n",
    "    if_matrix = repair_inconsistent_ifpr(if_matrix)\n",
    "\n",
    "weights = compute_ifahp_weights(if_matrix)\n",
    "print(\"Normalized Weights:\", weights)"
   ]
  },
  {
   "cell_type": "code",
   "execution_count": 325,
   "id": "7a52c43f-7122-4cd9-8bd1-8ddbad3f5821",
   "metadata": {},
   "outputs": [
    {
     "name": "stdout",
     "output_type": "stream",
     "text": [
      "    Req ID                 Req Name        mu        nu            pi\n",
      "0      101                      URL  0.633333  0.366667  0.000000e+00\n",
      "1      102      Choose Region Modal  0.579762  0.420238 -5.551115e-17\n",
      "2      103                Home Page  0.639286  0.360714  5.551115e-17\n",
      "3      104            Change Region  0.473810  0.492857  3.333333e-02\n",
      "4      105                   Search  0.645238  0.354762  5.551115e-17\n",
      "..     ...                      ...       ...       ...           ...\n",
      "95     196          Brand Promotion  0.520238  0.479762  5.551115e-17\n",
      "96     197   Bulk SMS Communication  0.397619  0.569048  3.333333e-02\n",
      "97     198        Corporate Gifting  0.682143  0.284524  3.333333e-02\n",
      "98     199  Partner with BookMyShow  0.657143  0.342857  5.551115e-17\n",
      "99     200                   Logout  0.567857  0.432143  5.551115e-17\n",
      "\n",
      "[100 rows x 5 columns]\n"
     ]
    }
   ],
   "source": [
    "import pandas as pd\n",
    "\n",
    "# Load the dataset\n",
    "df = pd.read_csv('excel_file/Requirements.csv')\n",
    "\n",
    "# Step 1: Map Importance to μ and ν\n",
    "importance_mapping = {\n",
    "    \"H\": (0.9, 0.1),  # High importance\n",
    "    \"M\": (0.6, 0.3),  # Medium importance\n",
    "    \"L\": (0.3, 0.6)   # Low importance\n",
    "}\n",
    "df[\"mu_importance\"] = df[\"Importance\"].map(lambda x: importance_mapping[x][0])\n",
    "df[\"nu_importance\"] = df[\"Importance\"].map(lambda x: importance_mapping[x][1])\n",
    "\n",
    "# Step 2: Normalize Cost and Value to [0, 1]\n",
    "df[\"mu_value\"] = (df[\"Value\"] - df[\"Value\"].min()) / (df[\"Value\"].max() - df[\"Value\"].min())\n",
    "df[\"nu_value\"] = 1 - df[\"mu_value\"]\n",
    "\n",
    "df[\"mu_cost\"] = 1 - (df[\"Cost\"] - df[\"Cost\"].min()) / (df[\"Cost\"].max() - df[\"Cost\"].min())\n",
    "df[\"nu_cost\"] = 1 - df[\"mu_cost\"]\n",
    "\n",
    "# Step 3: Combine criteria into a single intuitionistic fuzzy value\n",
    "df[\"mu\"] = (df[\"mu_importance\"] + df[\"mu_value\"] + df[\"mu_cost\"]) / 3\n",
    "df[\"nu\"] = (df[\"nu_importance\"] + df[\"nu_value\"] + df[\"nu_cost\"]) / 3\n",
    "df[\"pi\"] = 1 - df[\"mu\"] - df[\"nu\"]  # Hesitancy degree\n",
    "\n",
    "# Step 4: Create the IFPR matrix (list of tuples: (μ, ν, π))\n",
    "if_matrix = list(zip(df[\"mu\"], df[\"nu\"], df[\"pi\"]))\n",
    "\n",
    "# Display the preprocessed data\n",
    "print(df[[\"Req ID\", \"Req Name\", \"mu\", \"nu\", \"pi\"]])"
   ]
  },
  {
   "cell_type": "code",
   "execution_count": 365,
   "id": "2bc1687f-e365-4045-93d9-f8c7c6a2e47a",
   "metadata": {},
   "outputs": [
    {
     "name": "stdout",
     "output_type": "stream",
     "text": [
      "0    0.000000\n",
      "1    0.000000\n",
      "2    0.000000\n",
      "3    0.000000\n",
      "4    0.000000\n",
      "5    0.000000\n",
      "6    0.032053\n",
      "7    0.039802\n",
      "8    0.047551\n",
      "9    0.056407\n",
      "Name: Q, dtype: float64\n"
     ]
    }
   ],
   "source": [
    "print(df[\"Q\"].head(10))"
   ]
  },
  {
   "cell_type": "code",
   "execution_count": 363,
   "id": "1d7217fa-416d-4e01-81e0-83ef2ba636fa",
   "metadata": {},
   "outputs": [
    {
     "data": {
      "image/png": "[encoded data removed]",
      "text/plain": [
       "<Figure size 1000x500 with 1 Axes>"
      ]
     },
     "metadata": {},
     "output_type": "display_data"
    }
   ],
   "source": [
    "import matplotlib.pyplot as plt\n",
    "plt.figure(figsize=(10, 5))\n",
    "plt.scatter(df[\"Rank\"], df[\"Q\"], color=\"blue\", alpha=0.7)\n",
    "plt.xlabel(\"Rank\")\n",
    "plt.ylabel(\"Q Score\")\n",
    "plt.title(\"Q Score Distribution Across Rankings\")\n",
    "plt.grid(True)\n",
    "plt.show()"
   ]
  },
  {
   "cell_type": "code",
   "execution_count": 361,
   "id": "42008def-4890-4432-9277-8d01bded2a64",
   "metadata": {},
   "outputs": [
    {
     "data": {
      "image/png": "[encoded data removed]",
      "text/plain": [
       "<Figure size 600x400 with 1 Axes>"
      ]
     },
     "metadata": {},
     "output_type": "display_data"
    }
   ],
   "source": [
    "import seaborn as sns\n",
    "\n",
    "plt.figure(figsize=(6, 4))\n",
    "sns.violinplot(y=df[\"Q\"], color=\"lightblue\")\n",
    "plt.ylabel(\"Q Score\")\n",
    "plt.title(\"Q Score Distribution\")\n",
    "plt.grid(True)\n",
    "plt.show()"
   ]
  },
  {
   "cell_type": "code",
   "execution_count": 341,
   "id": "f2187e17-a540-406f-8955-e393b4b6290a",
   "metadata": {},
   "outputs": [
    {
     "name": "stdout",
     "output_type": "stream",
     "text": [
      "    Req ID                Req Name    Weight      Q  Rank\n",
      "0      101                     URL  0.011436  0.000     1\n",
      "1      133             Book Ticket  0.010469  0.000     2\n",
      "2      192                  Offers  0.011544  0.000     3\n",
      "3      127            Select Movie  0.008270  0.000     4\n",
      "4      125          BookMyShow App  0.011651  0.000     5\n",
      "..     ...                     ...       ...    ...   ...\n",
      "95     181             Sport Venue  0.009394  0.875    96\n",
      "96     102     Choose Region Modal  0.006940  0.875    97\n",
      "97     115           Customer Care  0.011907  0.875    98\n",
      "98     109  Continue with Facebook  0.011866  1.000    99\n",
      "99     170             Event Terms  0.010254  1.000   100\n",
      "\n",
      "[100 rows x 5 columns]\n"
     ]
    }
   ],
   "source": [
    "# Step 1: Compute IFAHP weights\n",
    "weights = compute_ifahp_weights(if_matrix)\n",
    "df[\"Weight\"] = [w[0] for w in weights]  # Use lower bound of weights\n",
    "\n",
    "# Step 2: Prepare decision matrix (crisp values from Value column)\n",
    "decision_matrix = df[\"Value\"].values.reshape(-1, 1)  # Use Value as the decision criterion\n",
    "\n",
    "# Step 3: Apply VIKOR to rank requirements\n",
    "Q, rankings = apply_vikor(decision_matrix, np.array([w[0] for w in weights]))\n",
    "\n",
    "# Step 4: Store Q values\n",
    "df[\"Q\"] = Q  \n",
    "\n",
    "# Step 5: Ensure proper ranking (sorting by Q)\n",
    "df = df.sort_values(by=\"Q\", ascending=True).reset_index(drop=True)\n",
    "df[\"Rank\"] = range(1, len(df) + 1)  # Assign ranks from 1 to N\n",
    "\n",
    "# Display the final ranked requirements including Q values\n",
    "print(df[[\"Req ID\", \"Req Name\", \"Weight\", \"Q\", \"Rank\"]])"
   ]
  },
  {
   "cell_type": "code",
   "execution_count": 367,
   "id": "218f1ffc-fc77-4cbb-878b-30bd5c682383",
   "metadata": {},
   "outputs": [
    {
     "name": "stdout",
     "output_type": "stream",
     "text": [
      "Final Ranked Data:\n",
      "     Req ID  Cost  Value Importance    Weight         Q  Rank\n",
      "0      101     8      9          H  0.011436  0.000000     1\n",
      "1      133     4      9          H  0.010469  0.000000     2\n",
      "2      192     6      9          H  0.011544  0.000000     3\n",
      "3      127     6      9          H  0.008270  0.000000     4\n",
      "4      125     5      9          H  0.011651  0.000000     5\n",
      "..     ...   ...    ...        ...       ...       ...   ...\n",
      "95     181     4      2          M  0.011866  0.901961    96\n",
      "96     165     5      3          H  0.014123  0.920168    97\n",
      "97     182     3      2          L  0.011907  0.922819    98\n",
      "98     117     3      2          L  0.012618  0.959150    99\n",
      "99     115     7      2          L  0.013156  1.000000   100\n",
      "\n",
      "[100 rows x 7 columns]\n"
     ]
    }
   ],
   "source": [
    "# Step 3: Compute IFAHP weights and apply VIKOR through the pipeline\n",
    "df[\"Q\"], rankings, weights = ifahp_vikor_pipeline(if_matrix, df[\"Value\"].values.reshape(-1, 1))\n",
    "\n",
    "# Step 4: Store IFAHP weights\n",
    "df[\"Weight\"] = [w[0] for w in weights]  # Use lower bound of weights\n",
    "\n",
    "# Step 5: Ensure proper ranking (sorting by Q)\n",
    "df = df.sort_values(by=\"Q\", ascending=True).reset_index(drop=True)\n",
    "df[\"Rank\"] = range(1, len(df) + 1)  # Assign ranks from 1 to N\n",
    "\n",
    "# Debug Output\n",
    "print(\"Final Ranked Data:\\n\", df[[\"Req ID\",\"Cost\",\"Value\",\"Importance\" ,\"Weight\", \"Q\", \"Rank\"]])"
   ]
  },
  {
   "cell_type": "code",
   "execution_count": 359,
   "id": "a0eeef83-6f3d-45fa-978e-08da203bf901",
   "metadata": {},
   "outputs": [
    {
     "data": {
      "text/plain": [
       "Q\n",
       "0.000000    6\n",
       "0.785382    2\n",
       "0.430866    2\n",
       "0.262926    2\n",
       "0.196505    2\n",
       "           ..\n",
       "0.269909    1\n",
       "0.267354    1\n",
       "0.251583    1\n",
       "0.236358    1\n",
       "1.000000    1\n",
       "Name: count, Length: 89, dtype: int64"
      ]
     },
     "execution_count": 359,
     "metadata": {},
     "output_type": "execute_result"
    }
   ],
   "source": [
    "df[\"Q\"].value_counts()"
   ]
  }
 ],
 "metadata": {
  "kernelspec": {
   "display_name": "Python [conda env:base] *",
   "language": "python",
   "name": "conda-base-py"
  },
  "language_info": {
   "codemirror_mode": {
    "name": "ipython",
    "version": 3
   },
   "file_extension": ".py",
   "mimetype": "text/x-python",
   "name": "python",
   "nbconvert_exporter": "python",
   "pygments_lexer": "ipython3",
   "version": "3.12.4"
  }
 },
 "nbformat": 4,
 "nbformat_minor": 5
}
